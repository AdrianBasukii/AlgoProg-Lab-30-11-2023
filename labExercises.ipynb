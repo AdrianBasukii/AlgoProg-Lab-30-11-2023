{
 "cells": [
  {
   "cell_type": "code",
   "execution_count": 24,
   "metadata": {},
   "outputs": [
    {
     "name": "stdout",
     "output_type": "stream",
     "text": [
      "Both words cannot be linked.\n"
     ]
    }
   ],
   "source": [
    "# FIRST EXERCISE: WordLink\n",
    "\n",
    "firstWord = input(\"First word: \").lower()\n",
    "secondWord = input(\"Second word: \").lower()\n",
    "\n",
    "temp = 0\n",
    "\n",
    "def checkStartingLetter(substring, string, temp):\n",
    "    if len(substring) > 1 and string[0] == substring[0] and string[1] == substring[1]:\n",
    "        print(f\"Both words can be linked with the subword {substring}.\")\n",
    "        temp +=1\n",
    "\n",
    "    elif len(substring) == 1 and string[0] == substring:\n",
    "        print(f\"Both words can be linked with the subword {substring}.\")\n",
    "        temp +=1\n",
    "\n",
    "firstWordList = list(firstWord)\n",
    "firstWordModded = firstWord\n",
    "for i in range(len(firstWord)):\n",
    "    if secondWord.find(firstWordModded) >= 0:\n",
    "        checkStartingLetter(firstWordModded, secondWord, temp)\n",
    "        break\n",
    "    else:\n",
    "        firstWordList.remove(firstWord[i])\n",
    "        firstWordModded = ''.join(firstWordList)\n",
    "\n",
    "if temp == 0:\n",
    "    print(\"Both words cannot be linked.\")"
   ]
  },
  {
   "cell_type": "code",
   "execution_count": 2,
   "metadata": {},
   "outputs": [
    {
     "ename": "ValueError",
     "evalue": "invalid literal for int() with base 10: ''",
     "output_type": "error",
     "traceback": [
      "\u001b[1;31m---------------------------------------------------------------------------\u001b[0m",
      "\u001b[1;31mValueError\u001b[0m                                Traceback (most recent call last)",
      "\u001b[1;32mc:\\Users\\ANB\\Desktop\\labExercises.ipynb Cell 2\u001b[0m line \u001b[0;36m1\n\u001b[1;32m----> <a href='vscode-notebook-cell:/c%3A/Users/ANB/Desktop/labExercises.ipynb#W1sZmlsZQ%3D%3D?line=0'>1</a>\u001b[0m numberInput \u001b[39m=\u001b[39m \u001b[39mint\u001b[39;49m(\u001b[39minput\u001b[39;49m(\u001b[39m\"\u001b[39;49m\u001b[39mNumber: \u001b[39;49m\u001b[39m\"\u001b[39;49m))\n\u001b[0;32m      <a href='vscode-notebook-cell:/c%3A/Users/ANB/Desktop/labExercises.ipynb#W1sZmlsZQ%3D%3D?line=2'>3</a>\u001b[0m temp \u001b[39m=\u001b[39m \u001b[39m0\u001b[39m\n\u001b[0;32m      <a href='vscode-notebook-cell:/c%3A/Users/ANB/Desktop/labExercises.ipynb#W1sZmlsZQ%3D%3D?line=3'>4</a>\u001b[0m beautifulNum \u001b[39m=\u001b[39m numberInput\n",
      "\u001b[1;31mValueError\u001b[0m: invalid literal for int() with base 10: ''"
     ]
    }
   ],
   "source": [
    "# SECOND EXERCISE: Beautiful Numbers\n",
    "\n",
    "numberInput = int(input(\"Number: \"))\n",
    "\n",
    "temp = 0\n",
    "beautifulNum = numberInput\n",
    "                \n",
    "    \n",
    "while temp == 0:\n",
    "    if beautifulNum%numberInput == 0:\n",
    "        numList = []\n",
    "        for x in str(beautifulNum):\n",
    "            if int(x) in numList:\n",
    "                pass\n",
    "            else:\n",
    "                numList.append(int(x))\n",
    "\n",
    "        if len(numList) == 1:\n",
    "            temp += 1\n",
    "            print(f\"The smallest beautiful number is {beautifulNum}\")\n",
    "\n",
    "    beautifulNum += 1"
   ]
  }
 ],
 "metadata": {
  "kernelspec": {
   "display_name": "Python 3",
   "language": "python",
   "name": "python3"
  },
  "language_info": {
   "codemirror_mode": {
    "name": "ipython",
    "version": 3
   },
   "file_extension": ".py",
   "mimetype": "text/x-python",
   "name": "python",
   "nbconvert_exporter": "python",
   "pygments_lexer": "ipython3",
   "version": "3.11.6"
  }
 },
 "nbformat": 4,
 "nbformat_minor": 2
}
