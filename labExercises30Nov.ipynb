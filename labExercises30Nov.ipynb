{
 "cells": [
  {
   "cell_type": "code",
   "execution_count": 24,
   "metadata": {},
   "outputs": [
    {
     "name": "stdout",
     "output_type": "stream",
     "text": [
      "Both words cannot be linked.\n"
     ]
    }
   ],
   "source": [
    "# FIRST EXERCISE: WordLink\n",
    "\n",
    "firstWord = input(\"First word: \").lower()\n",
    "secondWord = input(\"Second word: \").lower()\n",
    "\n",
    "temp = 0\n",
    "\n",
    "def checkStartingLetter(substring, string, temp):\n",
    "    if len(substring) > 1 and string[0] == substring[0] and string[1] == substring[1]:\n",
    "        print(f\"Both words can be linked with the subword {substring}.\")\n",
    "        temp +=1\n",
    "\n",
    "    elif len(substring) == 1 and string[0] == substring:\n",
    "        print(f\"Both words can be linked with the subword {substring}.\")\n",
    "        temp +=1\n",
    "\n",
    "firstWordList = list(firstWord)\n",
    "firstWordModded = firstWord\n",
    "for i in range(len(firstWord)):\n",
    "    if secondWord.find(firstWordModded) >= 0:\n",
    "        checkStartingLetter(firstWordModded, secondWord, temp)\n",
    "        break\n",
    "    else:\n",
    "        firstWordList.remove(firstWord[i])\n",
    "        firstWordModded = ''.join(firstWordList)\n",
    "\n",
    "if temp == 0:\n",
    "    print(\"Both words cannot be linked.\")"
   ]
  },
  {
   "cell_type": "code",
   "execution_count": 1,
   "metadata": {},
   "outputs": [
    {
     "name": "stdout",
     "output_type": "stream",
     "text": [
      "The smallest beautiful number is 7\n"
     ]
    }
   ],
   "source": [
    "# SECOND EXERCISE: Beautiful Numbers\n",
    "\n",
    "numberInput = int(input(\"Number: \"))\n",
    "\n",
    "temp = 0\n",
    "beautifulNum = numberInput\n",
    "                \n",
    "    \n",
    "while temp == 0:\n",
    "    if beautifulNum%numberInput == 0:\n",
    "        numList = []\n",
    "        for x in str(beautifulNum):\n",
    "            if int(x) in numList:\n",
    "                pass\n",
    "            else:\n",
    "                numList.append(int(x))\n",
    "\n",
    "        if len(numList) == 1:\n",
    "            temp += 1\n",
    "            print(f\"The smallest beautiful number is {beautifulNum}\")\n",
    "\n",
    "    beautifulNum += 1"
   ]
  }
 ],
 "metadata": {
  "kernelspec": {
   "display_name": "Python 3",
   "language": "python",
   "name": "python3"
  },
  "language_info": {
   "codemirror_mode": {
    "name": "ipython",
    "version": 3
   },
   "file_extension": ".py",
   "mimetype": "text/x-python",
   "name": "python",
   "nbconvert_exporter": "python",
   "pygments_lexer": "ipython3",
   "version": "3.11.6"
  }
 },
 "nbformat": 4,
 "nbformat_minor": 2
}
